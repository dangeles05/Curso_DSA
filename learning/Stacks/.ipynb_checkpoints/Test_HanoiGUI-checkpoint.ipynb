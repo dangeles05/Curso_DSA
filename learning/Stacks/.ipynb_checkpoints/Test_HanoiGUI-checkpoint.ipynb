{
 "cells": [
  {
   "cell_type": "code",
   "execution_count": 1,
   "id": "1811229f-98fa-49fc-be66-e0fbf3a11772",
   "metadata": {},
   "outputs": [],
   "source": [
    "!python HanoiGUI.py"
   ]
  },
  {
   "cell_type": "code",
   "execution_count": null,
   "id": "547daf85-ac2f-4860-8dc0-253d05ff3af4",
   "metadata": {},
   "outputs": [],
   "source": []
  }
 ],
 "metadata": {
  "kernelspec": {
   "display_name": "Python 3 (ipykernel)",
   "language": "python",
   "name": "python3"
  },
  "language_info": {
   "codemirror_mode": {
    "name": "ipython",
    "version": 3
   },
   "file_extension": ".py",
   "mimetype": "text/x-python",
   "name": "python",
   "nbconvert_exporter": "python",
   "pygments_lexer": "ipython3",
   "version": "3.10.7"
  }
 },
 "nbformat": 4,
 "nbformat_minor": 5
}
